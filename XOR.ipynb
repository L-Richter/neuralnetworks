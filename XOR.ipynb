{
 "cells": [
  {
   "cell_type": "code",
   "execution_count": 144,
   "metadata": {
    "collapsed": true
   },
   "outputs": [],
   "source": [
    "%matplotlib inline\n",
    "import matplotlib.pyplot as plt\n",
    "import seaborn as sns\n",
    "sns.set_context('talk')\n",
    "\n",
    "import numpy as np\n",
    "from itertools import product\n",
    "\n",
    "import network as nw"
   ]
  },
  {
   "cell_type": "code",
   "execution_count": 145,
   "metadata": {
    "collapsed": false
   },
   "outputs": [],
   "source": [
    "#create training data\n",
    "training_size = 1000\n",
    "\n",
    "A = np.random.binomial(1, 0.5, training_size)\n",
    "B = np.random.binomial(1, 0.5, training_size)\n",
    "AxorB = (A ^ B).reshape([training_size, 1])\n",
    "training_data = [np.array([[a], [b]]) for a, b in zip(A, B)]\n",
    "\n",
    "#create test data\n",
    "test_data = [np.array([[a], [b]]) for a, b in product([0, 1], [0, 1])]\n",
    "test_result = [a ^ b for a, b in test_data]"
   ]
  },
  {
   "cell_type": "markdown",
   "metadata": {},
   "source": [
    "# minimal network"
   ]
  },
  {
   "cell_type": "markdown",
   "metadata": {},
   "source": [
    "Does not learn properly"
   ]
  },
  {
   "cell_type": "code",
   "execution_count": 159,
   "metadata": {
    "collapsed": false,
    "scrolled": true
   },
   "outputs": [
    {
     "name": "stdout",
     "output_type": "stream",
     "text": [
      "Epoch 0 done\n",
      "Epoch 1 done\n",
      "Epoch 2 done\n",
      "Epoch 3 done\n",
      "Epoch 4 done\n",
      "2 out of 4 correct\n"
     ]
    }
   ],
   "source": [
    "net = nw.Network([2, 2, 1])\n",
    "net.fit_sgd(list(zip(training_data, AxorB)), batch_size=10, learning_rate=0.5, epochs=5)\n",
    "\n",
    "n_correct = 0\n",
    "n_total = len(test_data)\n",
    "for ab, a_xor_b in zip(test_data, test_result):\n",
    "    n_correct += (net.feedforward(ab)[0][0] > 0.5) == a_xor_b[0]\n",
    "print('{} out of {} correct'.format(n_correct, n_total))"
   ]
  },
  {
   "cell_type": "markdown",
   "metadata": {},
   "source": [
    "But does learn with batch size 1"
   ]
  },
  {
   "cell_type": "code",
   "execution_count": 162,
   "metadata": {
    "collapsed": false
   },
   "outputs": [
    {
     "name": "stdout",
     "output_type": "stream",
     "text": [
      "Epoch 0 done\n",
      "Epoch 1 done\n",
      "Epoch 2 done\n",
      "Epoch 3 done\n",
      "Epoch 4 done\n",
      "4 out of 4 correct\n"
     ]
    }
   ],
   "source": [
    "net = nw.Network([2, 2, 1])\n",
    "net.fit_sgd(list(zip(training_data, AxorB)), batch_size=1, learning_rate=0.5, epochs=5)\n",
    "\n",
    "n_correct = 0\n",
    "n_total = len(test_data)\n",
    "for ab, a_xor_b in zip(test_data, test_result):\n",
    "    n_correct += (net.feedforward(ab)[0][0] > 0.5) == a_xor_b[0]\n",
    "print('{} out of {} correct'.format(n_correct, n_total))"
   ]
  },
  {
   "cell_type": "markdown",
   "metadata": {},
   "source": [
    "# Deeper network"
   ]
  },
  {
   "cell_type": "markdown",
   "metadata": {},
   "source": [
    "Same problems as with the shallow one"
   ]
  },
  {
   "cell_type": "code",
   "execution_count": 168,
   "metadata": {
    "collapsed": false
   },
   "outputs": [
    {
     "name": "stdout",
     "output_type": "stream",
     "text": [
      "Epoch 0 done\n",
      "Epoch 1 done\n",
      "Epoch 2 done\n",
      "Epoch 3 done\n",
      "Epoch 4 done\n",
      "Epoch 5 done\n",
      "Epoch 6 done\n",
      "Epoch 7 done\n",
      "Epoch 8 done\n",
      "Epoch 9 done\n",
      "Epoch 10 done\n",
      "Epoch 11 done\n",
      "Epoch 12 done\n",
      "Epoch 13 done\n",
      "Epoch 14 done\n",
      "Epoch 15 done\n",
      "Epoch 16 done\n",
      "Epoch 17 done\n",
      "Epoch 18 done\n",
      "Epoch 19 done\n",
      "2 out of 4 correct\n"
     ]
    }
   ],
   "source": [
    "net = nw.Network([2, 20, 20, 1])\n",
    "net.fit_sgd(list(zip(training_data, AxorB)), batch_size=10, learning_rate=1, epochs=20)\n",
    "\n",
    "n_correct = 0\n",
    "n_total = len(test_data)\n",
    "for ab, a_xor_b in zip(test_data, test_result):\n",
    "    n_correct += (net.feedforward(ab)[0][0] > 0.5) == a_xor_b[0]\n",
    "print('{} out of {} correct'.format(n_correct, n_total))"
   ]
  },
  {
   "cell_type": "code",
   "execution_count": 166,
   "metadata": {
    "collapsed": false
   },
   "outputs": [
    {
     "name": "stdout",
     "output_type": "stream",
     "text": [
      "Epoch 0 done\n",
      "Epoch 1 done\n",
      "Epoch 2 done\n",
      "Epoch 3 done\n",
      "Epoch 4 done\n",
      "Epoch 5 done\n",
      "Epoch 6 done\n",
      "Epoch 7 done\n",
      "Epoch 8 done\n",
      "Epoch 9 done\n",
      "Epoch 10 done\n",
      "Epoch 11 done\n",
      "Epoch 12 done\n",
      "Epoch 13 done\n",
      "Epoch 14 done\n",
      "Epoch 15 done\n",
      "Epoch 16 done\n",
      "Epoch 17 done\n",
      "Epoch 18 done\n",
      "Epoch 19 done\n",
      "4 out of 4 correct\n"
     ]
    }
   ],
   "source": [
    "net = nw.Network([2, 20, 20, 1])\n",
    "net.fit_sgd(list(zip(training_data, AxorB)), batch_size=1, learning_rate=1, epochs=20)\n",
    "\n",
    "n_correct = 0\n",
    "n_total = len(test_data)\n",
    "for ab, a_xor_b in zip(test_data, test_result):\n",
    "    n_correct += (net.feedforward(ab)[0][0] > 0.5) == a_xor_b[0]\n",
    "print('{} out of {} correct'.format(n_correct, n_total))"
   ]
  }
 ],
 "metadata": {
  "kernelspec": {
   "display_name": "Python 3",
   "language": "python",
   "name": "python3"
  },
  "language_info": {
   "codemirror_mode": {
    "name": "ipython",
    "version": 3
   },
   "file_extension": ".py",
   "mimetype": "text/x-python",
   "name": "python",
   "nbconvert_exporter": "python",
   "pygments_lexer": "ipython3",
   "version": "3.5.2"
  }
 },
 "nbformat": 4,
 "nbformat_minor": 0
}
