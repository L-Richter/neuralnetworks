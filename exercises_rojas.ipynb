{
 "cells": [
  {
   "cell_type": "markdown",
   "metadata": {},
   "source": [
    "Working through some of the exercises from the book Neural Networks - A Systematic Introduction by Raul Rojas available at https://page.mi.fu-berlin.de/rojas/neural/"
   ]
  },
  {
   "cell_type": "markdown",
   "metadata": {},
   "source": [
    "# Chapter 2"
   ]
  },
  {
   "cell_type": "markdown",
   "metadata": {},
   "source": [
    "## Exercise 1\n",
    "\n",
    "Design a McCulloch–Pitts unit capable of recognizing the letter “T” digitized in a 10 × 10 array of pixels. Dark pixels should be coded as ones, white pixels as zeroes.\n",
    "\n",
    "Set the inputs corresponding to white pixels to be inhibatory and set the weight to the number of dark pixels"
   ]
  },
  {
   "cell_type": "markdown",
   "metadata": {},
   "source": [
    "## Exercise 2\n",
    "\n",
    "Build a recurrent network capable of adding two sequential streams of bits of arbitrary finite length.\n",
    "\n",
    "Let P denote the network from exercise 4 computing the parity with an input of 3. Then the desired network looks like:\n",
    "<img src=\"pics/Network1.png\">\n",
    "Whenever the input plus the carry bit from the last operation is at least 2 there will be a carry bit for the next operation. The carry bit is also added to the parity operation in the next round together with the two input bits of the numbers added (to be read in right to left with 0 padded to make them the same length)."
   ]
  },
  {
   "cell_type": "markdown",
   "metadata": {},
   "source": [
    "## Exercise 3\n",
    "Show that no finite automaton can compute the product of two sequential streams of bits of arbitrary finite length.\n",
    "\n",
    "Assume $A$ is a finite automaton that computes the product of two sequential streams of bits of arbitrary finite length. Since $A$ is finite is has a finite number of states $N$. Let $a$ be a fixed number with $M$ digits. There are $10^{M}-10^{M-1}$ numbers with $M$ digits whose product with $a$ has $2M$ digits. The automaton $A$ has to give $10^{M}-10^{M-1}$ different outputs when multiplying $a$ with the $M$ digit numbers. But $A$ has only $N$ states it can be in after reading the two numbers in and has at most $M$ bits of output while reading in, therefore $A$ only can produce $N + M$ different outputs. For $M$ big enough we have $10^{M}-10^{M-1}>N+M$ and therefore $A$ can't compute all products of digits of length $M$."
   ]
  },
  {
   "cell_type": "markdown",
   "metadata": {},
   "source": [
    "## Exercise 4\n",
    "The parity of $n$ given bits is $1$ if an odd number of them is equal to $1$, otherwise it is $0$. Build a network of McCulloch–Pitts units capable of computing the parity function of two, three, and four given bits.\n",
    "\n",
    "\n",
    "<img src=\"pics/network2.png\">"
   ]
  },
  {
   "cell_type": "markdown",
   "metadata": {},
   "source": [
    "## Exercise 5\n",
    "\n",
    "How many possible states can assume the binary scaler in Figure 2.21? Write the state and output tables for an equivalent finite automaton.\n",
    "\n",
    "It can have two possible states:\n",
    "\n",
    "$Q_0$: The last digit was a $1$ and didn't got transformed to a $0$\n",
    "\n",
    "$Q_1$: The last digit was a $0$ or got transformed to a $0$\n",
    "\n",
    "The state tables are:\n",
    "<table>\n",
    "  <tr>\n",
    "    <td></td>\n",
    "    <td>$Q_0$</td> \n",
    "    <td>$Q_1$</td>\n",
    "  </tr>\n",
    "  <tr>\n",
    "    <td>0</td>\n",
    "    <td>$Q_0$</td> \n",
    "    <td>$Q_0$</td>\n",
    "  </tr>\n",
    "  <tr>\n",
    "    <td>1</td>\n",
    "    <td>$Q_1$</td> \n",
    "    <td>$Q_0$</td>\n",
    "  </tr>\n",
    "</table>\n",
    "\n",
    "and the output tables are:\n",
    "<table>\n",
    "  <tr>\n",
    "    <td></td>\n",
    "    <td>$Q_0$</td> \n",
    "    <td>$Q_1$</td>\n",
    "  </tr>\n",
    "  <tr>\n",
    "    <td>0</td>\n",
    "    <td>$0$</td> \n",
    "    <td>$0$</td>\n",
    "  </tr>\n",
    "  <tr>\n",
    "    <td>1</td>\n",
    "    <td>$1$</td> \n",
    "    <td>$0$</td>\n",
    "  </tr>\n",
    "</table>"
   ]
  },
  {
   "cell_type": "markdown",
   "metadata": {},
   "source": [
    "## Exercise 6\n",
    "\n",
    "Design a network like the one shown in Figure 2.24 capable of simulating the finite automaton of the previous exercise.\n",
    "\n",
    "<img src=\"pics/network3.png\">"
   ]
  },
  {
   "cell_type": "markdown",
   "metadata": {},
   "source": [
    "## Exercise 7\n",
    "Find polynomial expressions corresponding to the OR and XOR Boolean functions using the Hadamard–Walsh transform.\n",
    "For OR we compute:\n",
    "$$\\frac{1}{4}\n",
    "\\begin{pmatrix}\n",
    "1 & 1 & 1 & 1 \\\\\n",
    "-1 & 1 & -1 & 1 \\\\\n",
    "-1 & -1 & 1 & 1 \\\\\n",
    "1 & -1 & -1 & 1 \\\\\n",
    "\\end{pmatrix}\n",
    "\\begin{pmatrix}\n",
    "-1 \\\\\n",
    "1 \\\\\n",
    "1 \\\\\n",
    "1 \\\\\n",
    "\\end{pmatrix}\n",
    "=\n",
    "\\frac{1}{4}\n",
    "\\begin{pmatrix}\n",
    "2 \\\\\n",
    "2 \\\\\n",
    "2 \\\\\n",
    "-2 \\\\\n",
    "\\end{pmatrix}$$\n",
    "Therefore the polynomial expression for OR is $\\frac{1}{2}(1+x_1+x_2-x_1x_2)$.\n",
    "\n",
    "For XOR we get:\n",
    "$$\\frac{1}{4}\n",
    "\\begin{pmatrix}\n",
    "1 & 1 & 1 & 1 \\\\\n",
    "-1 & 1 & -1 & 1 \\\\\n",
    "-1 & -1 & 1 & 1 \\\\\n",
    "1 & -1 & -1 & 1 \\\\\n",
    "\\end{pmatrix}\n",
    "\\begin{pmatrix}\n",
    "-1 \\\\\n",
    "1 \\\\\n",
    "1 \\\\\n",
    "-1 \\\\\n",
    "\\end{pmatrix}\n",
    "=\n",
    "\\frac{1}{4}\n",
    "\\begin{pmatrix}\n",
    "0 \\\\\n",
    "0 \\\\\n",
    "0 \\\\\n",
    "-4 \\\\\n",
    "\\end{pmatrix}$$\n",
    "Which gives the polynomial expression of $-x_1x_2$"
   ]
  },
  {
   "cell_type": "markdown",
   "metadata": {},
   "source": [
    "# Chapter 3"
   ]
  },
  {
   "cell_type": "markdown",
   "metadata": {},
   "source": [
    "## Exercise 2\n",
    "\n",
    "Consider a simple perceptron with $n$ bipolar inputs and threshold $\\theta = 0$.\n",
    "Restrict each of the weights to have the value $−1$ or $1$. Give the smallest\n",
    "upper bound you can find for the number of functions from $\\{−1, 1\\}^n$ to\n",
    "$\\{−1, 1\\}$ which are computable by this perceptron [219]. Prove that the\n",
    "upper bound is sharp, i.e., that all functions are different.\n",
    "\n",
    "There are $2^n$ different weights we can choose for the perceptron, thus there are at most $2^n$ functions we can compute with it.\n",
    "\n",
    "To show that the upper bound is sharp let $a, b \\in\\{-1, 1\\}^n$ be two distinct weight vectors. Let $k\\in\\mathbb{N}$ be so that $a_k\\neq b_k$, wlog $a_k=1$ and $b_k=-1$. We show that the corresponding perceptrons don't compute the same function by constructing a vector $x\\in\\{−1, 1\\}^n$ with $\\langle a, x\\rangle\\geq 0$ and $\\langle b, x\\rangle < 0$.\n",
    "\n",
    "We can form two disjoint sets of coordinates, the set $I=\\{l:a_l=b_l\\}$ where $a$ and $b$ agree and $J=\\{l:a_l\\neq b_l\\}$ where they don't agree. Since $a\\neq b$ we have that $J$ is nonempty. We can always choose $x_i$ in such a way that $\\sum_{j\\in J} a_jx_j > 0$ and $\\sum_{j\\in J} b_jx_j < 0$ by taking $x_j = a_j$. Similarly we can always achieve $\\sum_{i\\in I} a_ix_i = \\sum_{i\\in I} b_ix_i \\in \\{0,-1\\}$. Then $\\langle a, x\\rangle\\geq 0$ and $\\langle b, x\\rangle < 0$."
   ]
  },
  {
   "cell_type": "markdown",
   "metadata": {},
   "source": [
    "## Exercise 3\n",
    "\n",
    "Show that two finite linearly separable sets $A$ and $B$ can be separated by\n",
    "a perceptron with rational weights. Note that in Def. 2 the weights are\n",
    "real numbers.\n",
    "\n",
    "Since $A$ and $B$ are linearly seperable there exist $n + 1$ real numbers $w_1, \\dots , w_{n+1}$, such that\n",
    "every point $(x_1, x_2, \\dots , x_n) \\in A$ satisfies $\\sum_{i=1}^n w_ix_i \\geq w_{n+1}$ and every point $(x_1, x_2, \\dots , x_n) \\in B$ satisfies $\\sum_{i=1}^n w_ix_i < w_{n+1}$. Since $B$ is finite we can take some rational $\\epsilon = \\min_{x\\in B}(w_{n+1} - \\sum_{i=1}^n w_ix_i) > 0$. Furthermore since $A$ and $B$ are finite we can set $M = \\max\\{x_k:(x_1, x_2, \\dots , x_n) \\in A\\cup B\\}$. Since $\\mathbb{Q}$ is dense in $\\mathbb{R}$ we can choose rational $w_i'\\in (w_i, w_i + \\epsilon / 3nM)$ for all $i=1,\\dots,n$. For $(x_1, x_2, \\dots , x_n) \\in A\\cup B$ we get that:\n",
    "$$ \\begin{align} \\mid\\sum w_ix_i-\\sum w_i'x_i\\mid & \\leq \\sum\\mid w_ix_i- w_i'x_i\\mid \\\\\n",
    "& < \\sum\\mid w_ix_i - w_ix_i - \\epsilon x_i / 3nM\\mid \\\\\n",
    "& \\leq \\sum\\mid\\epsilon /3n\\mid\\\\\n",
    "& = \\epsilon /3\\end{align} $$\n",
    "\n",
    "Take some rational $w_{n+1}'\\in (w_{n+1} - \\epsilon /3, w_{n+1} - 2\\epsilon /3)$ then we have for $(x_1, x_2, \\dots , x_n) \\in A$:\n",
    "$$ \\begin{align} \\sum_{i=1}^n w_i'x_i & > \\sum_{i=1}^n w_ix_i - \\epsilon/3 \\\\\n",
    "& \\geq w_{n+1}-\\epsilon/3 \\\\\n",
    "& > w_{n+1}'\\end{align} $$\n",
    "and for $(x_1, x_2, \\dots , x_n) \\in B$:\n",
    "$$ \\begin{align} \\sum_{i=1}^n w_i'x_i & < \\sum_{i=1}^n w_ix_i + \\epsilon/3 \\\\\n",
    "& < w_{n+1}-\\epsilon+\\epsilon/3 \\\\\n",
    "& < w_{n+1}'\\end{align}$$\n",
    "\n",
    "Thus $A$ and $B$ are linearly seperable with rational weights $w_1', \\dots , w_{n+1}'$."
   ]
  },
  {
   "cell_type": "markdown",
   "metadata": {},
   "source": [
    "## Exercise 4\n",
    "\n",
    "Prove that the parity function of $n > 2$ binary inputs $x_1, x_2, \\dots, x_n$ cannot be computed by a perceptron.\n",
    "\n",
    "For two binary inputs the parity function is the XOR function which we have seen can not be computed by a perceptron. Assume there is some $n>2$ for which we can compute the parity function with a perceptron $P(x_1,\\dots,x_n)$. Then we can compute the parity function with two inputs as $P(x_1, x_2, 0, \\dots, 0)$."
   ]
  }
 ],
 "metadata": {
  "kernelspec": {
   "display_name": "Python 3",
   "language": "python",
   "name": "python3"
  },
  "language_info": {
   "codemirror_mode": {
    "name": "ipython",
    "version": 3
   },
   "file_extension": ".py",
   "mimetype": "text/x-python",
   "name": "python",
   "nbconvert_exporter": "python",
   "pygments_lexer": "ipython3",
   "version": "3.5.1"
  }
 },
 "nbformat": 4,
 "nbformat_minor": 0
}
