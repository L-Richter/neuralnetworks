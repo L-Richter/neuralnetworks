{
 "cells": [
  {
   "cell_type": "markdown",
   "metadata": {},
   "source": [
    "Working through some of the exercises from the book Neural Networks - A Systematic Introduction by Raul Rojas available at https://page.mi.fu-berlin.de/rojas/neural/"
   ]
  },
  {
   "cell_type": "code",
   "execution_count": 5,
   "metadata": {
    "collapsed": true
   },
   "outputs": [],
   "source": [
    "%matplotlib inline\n",
    "import matplotlib.pyplot as plt\n",
    "import networkx as nx"
   ]
  },
  {
   "cell_type": "markdown",
   "metadata": {},
   "source": [
    "# Chapter 2"
   ]
  },
  {
   "cell_type": "markdown",
   "metadata": {},
   "source": [
    "## Exercise 1\n",
    "\n",
    "Design a McCulloch–Pitts unit capable of recognizing the letter “T” digitized in a 10 × 10 array of pixels. Dark pixels should be coded as ones, white pixels as zeroes.\n",
    "\n",
    "Set the inputs corresponding to white pixels to be inhibatory and set the weight to the number of dark pixels"
   ]
  },
  {
   "cell_type": "markdown",
   "metadata": {},
   "source": [
    "## Exercise 2\n",
    "\n",
    "Build a recurrent network capable of adding two sequential streams of bits of arbitrary finite length.\n",
    "\n",
    "Let P denote the network from exercise 4 computing the parity with an input of 3. Then the desired network looks like:\n",
    "<img src=\"pics/Network1.png\">\n",
    "Whenever the input plus the carry bit from the last operation is at least 2 there will be a carry bit for the next operation. The carry bit is also added to the parity operation in the next round together with the two input bits of the numbers added (to be read in right to left with 0 padded to make them the same length)."
   ]
  },
  {
   "cell_type": "markdown",
   "metadata": {},
   "source": [
    "## Exercise 3"
   ]
  },
  {
   "cell_type": "markdown",
   "metadata": {},
   "source": [
    "Show that no finite automaton can compute the product of two sequential streams of bits of arbitrary finite length.\n",
    "\n",
    "Assume $A$ is a finite automaton that computes the product of two sequential streams of bits of arbitrary finite length. Since $A$ is finite is has a finite number of states $N$. Let $a$ be a fixed number with $M$ digits. There are $10^{M}-10^{M-1}$ numbers with $M$ digits whose product with $a$ has $2M$ digits. The automaton $A$ has to give $10^{M}-10^{M-1}$ different outputs when multiplying $a$ with the $M$ digit numbers. But $A$ has only $N$ states it can be in after reading the two numbers in and has at most $M$ bits of output while reading in, therefore $A$ only can produce $N + M$ different outputs. For $M$ big enough we have $10^{M}-10^{M-1}>N+M$ and therefore $A$ can't compute all products of digits of length $M$."
   ]
  }
 ],
 "metadata": {
  "kernelspec": {
   "display_name": "Python 3",
   "language": "python",
   "name": "python3"
  },
  "language_info": {
   "codemirror_mode": {
    "name": "ipython",
    "version": 3
   },
   "file_extension": ".py",
   "mimetype": "text/x-python",
   "name": "python",
   "nbconvert_exporter": "python",
   "pygments_lexer": "ipython3",
   "version": "3.5.1"
  }
 },
 "nbformat": 4,
 "nbformat_minor": 0
}
